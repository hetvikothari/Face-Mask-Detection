{
  "nbformat": 4,
  "nbformat_minor": 0,
  "metadata": {
    "colab": {
      "name": "facemask.ipynb",
      "provenance": []
    },
    "kernelspec": {
      "name": "python3",
      "display_name": "Python 3"
    },
    "language_info": {
      "name": "python"
    }
  },
  "cells": [
    {
      "cell_type": "markdown",
      "metadata": {
        "id": "4Dn1X38p7KS2"
      },
      "source": [
        "Importing necessary libraries"
      ]
    },
    {
      "cell_type": "code",
      "metadata": {
        "id": "pzw6fVAKOhsJ"
      },
      "source": [
        "from keras.optimizers import RMSprop\n",
        "from keras.preprocessing.image import ImageDataGenerator\n",
        "import cv2\n",
        "from keras.models import Sequential\n",
        "from keras.layers import Conv2D, Input, ZeroPadding2D, BatchNormalization, Activation, MaxPooling2D, Flatten, Dense,Dropout\n",
        "from keras.models import Model, load_model\n",
        "from keras.callbacks import TensorBoard, ModelCheckpoint\n",
        "from sklearn.model_selection import train_test_split\n",
        "from sklearn.metrics import f1_score\n",
        "from sklearn.utils import shuffle\n",
        "import imutils\n",
        "import numpy as np"
      ],
      "execution_count": 1,
      "outputs": []
    },
    {
      "cell_type": "markdown",
      "metadata": {
        "id": "WlIPzRl77Pl5"
      },
      "source": [
        "Defining the keras Sequential model"
      ]
    },
    {
      "cell_type": "code",
      "metadata": {
        "id": "ME7_qsQGOpzV"
      },
      "source": [
        "model =Sequential([\n",
        "    Conv2D(100, (3,3), activation='relu', input_shape=(150, 150, 3)),\n",
        "    MaxPooling2D(2,2),\n",
        "    \n",
        "    Conv2D(100, (3,3), activation='relu'),\n",
        "    MaxPooling2D(2,2),\n",
        "    \n",
        "    Flatten(),\n",
        "    Dropout(0.5),\n",
        "    Dense(50, activation='relu'),\n",
        "    Dense(2, activation='softmax')\n",
        "])"
      ],
      "execution_count": 2,
      "outputs": []
    },
    {
      "cell_type": "code",
      "metadata": {
        "id": "BvyXo64rOyCL"
      },
      "source": [
        "model.compile(optimizer='adam', loss='binary_crossentropy', metrics=['acc'])"
      ],
      "execution_count": 3,
      "outputs": []
    },
    {
      "cell_type": "markdown",
      "metadata": {
        "id": "1bKfCjlT7VYo"
      },
      "source": [
        "Mounting Google drive"
      ]
    },
    {
      "cell_type": "code",
      "metadata": {
        "colab": {
          "base_uri": "https://localhost:8080/"
        },
        "id": "A4nKqUrVO7yM",
        "outputId": "b49ac714-31c7-4b7b-d365-cacf016dbc89"
      },
      "source": [
        "from google.colab import drive\n",
        "\n",
        "drive.mount('/content/drive')"
      ],
      "execution_count": 5,
      "outputs": [
        {
          "output_type": "stream",
          "text": [
            "Mounted at /content/drive\n"
          ],
          "name": "stdout"
        }
      ]
    },
    {
      "cell_type": "code",
      "metadata": {
        "colab": {
          "base_uri": "https://localhost:8080/"
        },
        "id": "EKpV9hnAT0zE",
        "outputId": "249d9b61-fcf1-4ea4-f999-7ca02f3aead6"
      },
      "source": [
        "cd /content/drive/My Drive/Dataset"
      ],
      "execution_count": 9,
      "outputs": [
        {
          "output_type": "stream",
          "text": [
            "/content/drive/My Drive/Dataset\n"
          ],
          "name": "stdout"
        }
      ]
    },
    {
      "cell_type": "code",
      "metadata": {
        "id": "uwT96fl6QEcy"
      },
      "source": [
        "TRAINING_DIR = \"./train\""
      ],
      "execution_count": 10,
      "outputs": []
    },
    {
      "cell_type": "markdown",
      "metadata": {
        "id": "ivK2q-dJ7dql"
      },
      "source": [
        "Preprocessing train dataset"
      ]
    },
    {
      "cell_type": "code",
      "metadata": {
        "colab": {
          "base_uri": "https://localhost:8080/"
        },
        "id": "43neaBx2O0aC",
        "outputId": "55db1e44-af9a-4d6f-8408-c340a2d245dd"
      },
      "source": [
        "train_datagen = ImageDataGenerator(rescale=1.0/255,\n",
        "                                   rotation_range=40,\n",
        "                                   width_shift_range=0.2,\n",
        "                                   height_shift_range=0.2,\n",
        "                                   shear_range=0.2,\n",
        "                                   zoom_range=0.2,\n",
        "                                   horizontal_flip=True,\n",
        "                                   fill_mode='nearest')\n",
        "\n",
        "train_generator = train_datagen.flow_from_directory(TRAINING_DIR, \n",
        "                                                    batch_size=10, \n",
        "                                                    target_size=(150, 150))"
      ],
      "execution_count": 11,
      "outputs": [
        {
          "output_type": "stream",
          "text": [
            "Found 1315 images belonging to 2 classes.\n"
          ],
          "name": "stdout"
        }
      ]
    },
    {
      "cell_type": "markdown",
      "metadata": {
        "id": "alluf1hn7i7s"
      },
      "source": [
        "Prepocessinh Test Dataset"
      ]
    },
    {
      "cell_type": "code",
      "metadata": {
        "colab": {
          "base_uri": "https://localhost:8080/"
        },
        "id": "BwaNpOlbO4zB",
        "outputId": "6bbbabf4-46c3-4dfc-eb6b-34867b917ed8"
      },
      "source": [
        "VALIDATION_DIR = \"./test\"\n",
        "validation_datagen = ImageDataGenerator(rescale=1.0/255)\n",
        "\n",
        "validation_generator = validation_datagen.flow_from_directory(VALIDATION_DIR, \n",
        "                                                         batch_size=10, \n",
        "                                                         target_size=(150, 150))"
      ],
      "execution_count": 12,
      "outputs": [
        {
          "output_type": "stream",
          "text": [
            "Found 194 images belonging to 2 classes.\n"
          ],
          "name": "stdout"
        }
      ]
    },
    {
      "cell_type": "code",
      "metadata": {
        "id": "p8J9sEFuUN75"
      },
      "source": [
        "checkpoint = ModelCheckpoint('model2-{epoch:03d}.model',monitor='val_loss',verbose=0,save_best_only=True,mode='auto')\n"
      ],
      "execution_count": 13,
      "outputs": []
    },
    {
      "cell_type": "markdown",
      "metadata": {
        "id": "IMDiMYXJ7nGa"
      },
      "source": [
        "Training the model"
      ]
    },
    {
      "cell_type": "code",
      "metadata": {
        "colab": {
          "base_uri": "https://localhost:8080/"
        },
        "id": "xmfPmMfbUQoC",
        "outputId": "42f59614-638d-4fe7-e4a5-2aca92f48beb"
      },
      "source": [
        "history = model.fit_generator(train_generator,\n",
        "                              epochs=10,\n",
        "                              validation_data=validation_generator,\n",
        "                              callbacks=[checkpoint])"
      ],
      "execution_count": 14,
      "outputs": [
        {
          "output_type": "stream",
          "text": [
            "/usr/local/lib/python3.7/dist-packages/keras/engine/training.py:1915: UserWarning: `Model.fit_generator` is deprecated and will be removed in a future version. Please use `Model.fit`, which supports generators.\n",
            "  warnings.warn('`Model.fit_generator` is deprecated and '\n"
          ],
          "name": "stderr"
        },
        {
          "output_type": "stream",
          "text": [
            "Epoch 1/10\n",
            "132/132 [==============================] - 892s 7s/step - loss: 0.7001 - acc: 0.6385 - val_loss: 0.2133 - val_acc: 0.9227\n",
            "INFO:tensorflow:Assets written to: model2-001.model/assets\n",
            "Epoch 2/10\n",
            "132/132 [==============================] - 157s 1s/step - loss: 0.3327 - acc: 0.8592 - val_loss: 0.1362 - val_acc: 0.9588\n",
            "INFO:tensorflow:Assets written to: model2-002.model/assets\n",
            "Epoch 3/10\n",
            "132/132 [==============================] - 158s 1s/step - loss: 0.2981 - acc: 0.8799 - val_loss: 0.1178 - val_acc: 0.9639\n",
            "INFO:tensorflow:Assets written to: model2-003.model/assets\n",
            "Epoch 4/10\n",
            "132/132 [==============================] - 156s 1s/step - loss: 0.3134 - acc: 0.8660 - val_loss: 0.1181 - val_acc: 0.9691\n",
            "Epoch 5/10\n",
            "132/132 [==============================] - 156s 1s/step - loss: 0.3071 - acc: 0.8801 - val_loss: 0.1044 - val_acc: 0.9691\n",
            "INFO:tensorflow:Assets written to: model2-005.model/assets\n",
            "Epoch 6/10\n",
            "132/132 [==============================] - 155s 1s/step - loss: 0.2633 - acc: 0.9002 - val_loss: 0.1018 - val_acc: 0.9536\n",
            "INFO:tensorflow:Assets written to: model2-006.model/assets\n",
            "Epoch 7/10\n",
            "132/132 [==============================] - 155s 1s/step - loss: 0.2193 - acc: 0.9203 - val_loss: 0.0761 - val_acc: 0.9742\n",
            "INFO:tensorflow:Assets written to: model2-007.model/assets\n",
            "Epoch 8/10\n",
            "132/132 [==============================] - 160s 1s/step - loss: 0.2280 - acc: 0.9220 - val_loss: 0.1150 - val_acc: 0.9485\n",
            "Epoch 9/10\n",
            "132/132 [==============================] - 157s 1s/step - loss: 0.1865 - acc: 0.9263 - val_loss: 0.1920 - val_acc: 0.9330\n",
            "Epoch 10/10\n",
            "132/132 [==============================] - 159s 1s/step - loss: 0.2175 - acc: 0.9192 - val_loss: 0.1657 - val_acc: 0.9330\n"
          ],
          "name": "stdout"
        }
      ]
    },
    {
      "cell_type": "markdown",
      "metadata": {
        "id": "s8i57E-57piF"
      },
      "source": [
        "Saving the model"
      ]
    },
    {
      "cell_type": "code",
      "metadata": {
        "id": "Mdj4aNPUUT_A"
      },
      "source": [
        "model.save(\"facemask.h5\")"
      ],
      "execution_count": 23,
      "outputs": []
    },
    {
      "cell_type": "code",
      "metadata": {
        "id": "YCXmKCj27tAs"
      },
      "source": [
        ""
      ],
      "execution_count": null,
      "outputs": []
    }
  ]
}